{
 "cells": [
  {
   "cell_type": "code",
   "execution_count": 1,
   "id": "394bd8a1-8816-4cef-8f02-6bf9deb79bd0",
   "metadata": {},
   "outputs": [],
   "source": [
    "# from https://inside-machinelearning.com/en/use-yolov7/"
   ]
  },
  {
   "cell_type": "code",
   "execution_count": 2,
   "id": "77890014-706a-423f-b0fd-7153e7a5d3e8",
   "metadata": {},
   "outputs": [
    {
     "name": "stdout",
     "output_type": "stream",
     "text": [
      "fatal: destination path 'yolov7' already exists and is not an empty directory.\n"
     ]
    }
   ],
   "source": [
    "!git clone https://github.com/WongKinYiu/yolov7.git"
   ]
  },
  {
   "cell_type": "code",
   "execution_count": 3,
   "id": "9709317e-322e-4a12-8d64-5c356f02fdba",
   "metadata": {},
   "outputs": [
    {
     "name": "stdout",
     "output_type": "stream",
     "text": [
      "/home/rusttm/Desktop/CVRec/yolo_v7/yolov7\n"
     ]
    },
    {
     "name": "stderr",
     "output_type": "stream",
     "text": [
      "/home/rusttm/Desktop/CVRec/venv/lib/python3.11/site-packages/IPython/core/magics/osm.py:417: UserWarning: This is now an optional IPython functionality, setting dhist requires you to install the `pickleshare` library.\n",
      "  self.shell.db['dhist'] = compress_dhist(dhist)[-100:]\n"
     ]
    }
   ],
   "source": [
    "%cd yolov7"
   ]
  },
  {
   "cell_type": "code",
   "execution_count": 4,
   "id": "6aa05b6d-c3ab-43ee-ab14-659ff6d71088",
   "metadata": {},
   "outputs": [
    {
     "name": "stdout",
     "output_type": "stream",
     "text": [
      "Looking in indexes: https://pypi.org/simple, https://www.piwheels.org/simple\n",
      "Requirement already satisfied: matplotlib>=3.2.2 in /home/rusttm/Desktop/CVRec/venv/lib/python3.11/site-packages (from -r requirements.txt (line 4)) (3.9.1)\n",
      "Requirement already satisfied: numpy<1.24.0,>=1.18.5 in /home/rusttm/Desktop/CVRec/venv/lib/python3.11/site-packages (from -r requirements.txt (line 5)) (1.23.5)\n",
      "Requirement already satisfied: opencv-python>=4.1.1 in /home/rusttm/Desktop/CVRec/venv/lib/python3.11/site-packages (from -r requirements.txt (line 6)) (4.10.0.84)\n",
      "Requirement already satisfied: Pillow>=7.1.2 in /home/rusttm/Desktop/CVRec/venv/lib/python3.11/site-packages (from -r requirements.txt (line 7)) (10.4.0)\n",
      "Requirement already satisfied: PyYAML>=5.3.1 in /home/rusttm/Desktop/CVRec/venv/lib/python3.11/site-packages (from -r requirements.txt (line 8)) (6.0.1)\n",
      "Requirement already satisfied: requests>=2.23.0 in /home/rusttm/Desktop/CVRec/venv/lib/python3.11/site-packages (from -r requirements.txt (line 9)) (2.32.3)\n",
      "Requirement already satisfied: scipy>=1.4.1 in /home/rusttm/Desktop/CVRec/venv/lib/python3.11/site-packages (from -r requirements.txt (line 10)) (1.14.0)\n",
      "Requirement already satisfied: torch!=1.12.0,>=1.7.0 in /home/rusttm/Desktop/CVRec/venv/lib/python3.11/site-packages (from -r requirements.txt (line 11)) (2.3.1)\n",
      "Requirement already satisfied: torchvision!=0.13.0,>=0.8.1 in /home/rusttm/Desktop/CVRec/venv/lib/python3.11/site-packages (from -r requirements.txt (line 12)) (0.18.1)\n",
      "Requirement already satisfied: tqdm>=4.41.0 in /home/rusttm/Desktop/CVRec/venv/lib/python3.11/site-packages (from -r requirements.txt (line 13)) (4.66.4)\n",
      "Requirement already satisfied: protobuf<4.21.3 in /home/rusttm/Desktop/CVRec/venv/lib/python3.11/site-packages (from -r requirements.txt (line 14)) (4.21.2)\n",
      "Requirement already satisfied: tensorboard>=2.4.1 in /home/rusttm/Desktop/CVRec/venv/lib/python3.11/site-packages (from -r requirements.txt (line 17)) (2.17.0)\n",
      "Requirement already satisfied: pandas>=1.1.4 in /home/rusttm/Desktop/CVRec/venv/lib/python3.11/site-packages (from -r requirements.txt (line 21)) (2.2.2)\n",
      "Requirement already satisfied: seaborn>=0.11.0 in /home/rusttm/Desktop/CVRec/venv/lib/python3.11/site-packages (from -r requirements.txt (line 22)) (0.13.2)\n",
      "Requirement already satisfied: ipython in /home/rusttm/Desktop/CVRec/venv/lib/python3.11/site-packages (from -r requirements.txt (line 34)) (8.26.0)\n",
      "Requirement already satisfied: psutil in /home/rusttm/Desktop/CVRec/venv/lib/python3.11/site-packages (from -r requirements.txt (line 35)) (6.0.0)\n",
      "Requirement already satisfied: thop in /home/rusttm/Desktop/CVRec/venv/lib/python3.11/site-packages (from -r requirements.txt (line 36)) (0.1.1.post2209072238)\n",
      "Requirement already satisfied: contourpy>=1.0.1 in /home/rusttm/Desktop/CVRec/venv/lib/python3.11/site-packages (from matplotlib>=3.2.2->-r requirements.txt (line 4)) (1.2.1)\n",
      "Requirement already satisfied: cycler>=0.10 in /home/rusttm/Desktop/CVRec/venv/lib/python3.11/site-packages (from matplotlib>=3.2.2->-r requirements.txt (line 4)) (0.12.1)\n",
      "Requirement already satisfied: fonttools>=4.22.0 in /home/rusttm/Desktop/CVRec/venv/lib/python3.11/site-packages (from matplotlib>=3.2.2->-r requirements.txt (line 4)) (4.53.1)\n",
      "Requirement already satisfied: kiwisolver>=1.3.1 in /home/rusttm/Desktop/CVRec/venv/lib/python3.11/site-packages (from matplotlib>=3.2.2->-r requirements.txt (line 4)) (1.4.5)\n",
      "Requirement already satisfied: packaging>=20.0 in /home/rusttm/Desktop/CVRec/venv/lib/python3.11/site-packages (from matplotlib>=3.2.2->-r requirements.txt (line 4)) (24.1)\n",
      "Requirement already satisfied: pyparsing>=2.3.1 in /home/rusttm/Desktop/CVRec/venv/lib/python3.11/site-packages (from matplotlib>=3.2.2->-r requirements.txt (line 4)) (3.1.2)\n",
      "Requirement already satisfied: python-dateutil>=2.7 in /home/rusttm/Desktop/CVRec/venv/lib/python3.11/site-packages (from matplotlib>=3.2.2->-r requirements.txt (line 4)) (2.9.0.post0)\n",
      "Requirement already satisfied: charset-normalizer<4,>=2 in /home/rusttm/Desktop/CVRec/venv/lib/python3.11/site-packages (from requests>=2.23.0->-r requirements.txt (line 9)) (3.3.2)\n",
      "Requirement already satisfied: idna<4,>=2.5 in /home/rusttm/Desktop/CVRec/venv/lib/python3.11/site-packages (from requests>=2.23.0->-r requirements.txt (line 9)) (3.7)\n",
      "Requirement already satisfied: urllib3<3,>=1.21.1 in /home/rusttm/Desktop/CVRec/venv/lib/python3.11/site-packages (from requests>=2.23.0->-r requirements.txt (line 9)) (2.2.2)\n",
      "Requirement already satisfied: certifi>=2017.4.17 in /home/rusttm/Desktop/CVRec/venv/lib/python3.11/site-packages (from requests>=2.23.0->-r requirements.txt (line 9)) (2024.7.4)\n",
      "Requirement already satisfied: filelock in /home/rusttm/Desktop/CVRec/venv/lib/python3.11/site-packages (from torch!=1.12.0,>=1.7.0->-r requirements.txt (line 11)) (3.15.4)\n",
      "Requirement already satisfied: typing-extensions>=4.8.0 in /home/rusttm/Desktop/CVRec/venv/lib/python3.11/site-packages (from torch!=1.12.0,>=1.7.0->-r requirements.txt (line 11)) (4.12.2)\n",
      "Requirement already satisfied: sympy in /home/rusttm/Desktop/CVRec/venv/lib/python3.11/site-packages (from torch!=1.12.0,>=1.7.0->-r requirements.txt (line 11)) (1.13.0)\n",
      "Requirement already satisfied: networkx in /home/rusttm/Desktop/CVRec/venv/lib/python3.11/site-packages (from torch!=1.12.0,>=1.7.0->-r requirements.txt (line 11)) (3.3)\n",
      "Requirement already satisfied: jinja2 in /home/rusttm/Desktop/CVRec/venv/lib/python3.11/site-packages (from torch!=1.12.0,>=1.7.0->-r requirements.txt (line 11)) (3.1.4)\n",
      "Requirement already satisfied: fsspec in /home/rusttm/Desktop/CVRec/venv/lib/python3.11/site-packages (from torch!=1.12.0,>=1.7.0->-r requirements.txt (line 11)) (2024.6.1)\n",
      "Requirement already satisfied: absl-py>=0.4 in /home/rusttm/Desktop/CVRec/venv/lib/python3.11/site-packages (from tensorboard>=2.4.1->-r requirements.txt (line 17)) (2.1.0)\n",
      "Requirement already satisfied: grpcio>=1.48.2 in /home/rusttm/Desktop/CVRec/venv/lib/python3.11/site-packages (from tensorboard>=2.4.1->-r requirements.txt (line 17)) (1.65.1)\n",
      "Requirement already satisfied: markdown>=2.6.8 in /home/rusttm/Desktop/CVRec/venv/lib/python3.11/site-packages (from tensorboard>=2.4.1->-r requirements.txt (line 17)) (3.6)\n",
      "Requirement already satisfied: setuptools>=41.0.0 in /home/rusttm/Desktop/CVRec/venv/lib/python3.11/site-packages (from tensorboard>=2.4.1->-r requirements.txt (line 17)) (68.2.0)\n",
      "Requirement already satisfied: six>1.9 in /home/rusttm/Desktop/CVRec/venv/lib/python3.11/site-packages (from tensorboard>=2.4.1->-r requirements.txt (line 17)) (1.16.0)\n",
      "Requirement already satisfied: tensorboard-data-server<0.8.0,>=0.7.0 in /home/rusttm/Desktop/CVRec/venv/lib/python3.11/site-packages (from tensorboard>=2.4.1->-r requirements.txt (line 17)) (0.7.2)\n",
      "Requirement already satisfied: werkzeug>=1.0.1 in /home/rusttm/Desktop/CVRec/venv/lib/python3.11/site-packages (from tensorboard>=2.4.1->-r requirements.txt (line 17)) (3.0.3)\n",
      "Requirement already satisfied: pytz>=2020.1 in /home/rusttm/Desktop/CVRec/venv/lib/python3.11/site-packages (from pandas>=1.1.4->-r requirements.txt (line 21)) (2024.1)\n",
      "Requirement already satisfied: tzdata>=2022.7 in /home/rusttm/Desktop/CVRec/venv/lib/python3.11/site-packages (from pandas>=1.1.4->-r requirements.txt (line 21)) (2024.1)\n",
      "Requirement already satisfied: decorator in /home/rusttm/Desktop/CVRec/venv/lib/python3.11/site-packages (from ipython->-r requirements.txt (line 34)) (5.1.1)\n",
      "Requirement already satisfied: jedi>=0.16 in /home/rusttm/Desktop/CVRec/venv/lib/python3.11/site-packages (from ipython->-r requirements.txt (line 34)) (0.19.1)\n",
      "Requirement already satisfied: matplotlib-inline in /home/rusttm/Desktop/CVRec/venv/lib/python3.11/site-packages (from ipython->-r requirements.txt (line 34)) (0.1.7)\n",
      "Requirement already satisfied: prompt-toolkit<3.1.0,>=3.0.41 in /home/rusttm/Desktop/CVRec/venv/lib/python3.11/site-packages (from ipython->-r requirements.txt (line 34)) (3.0.47)\n",
      "Requirement already satisfied: pygments>=2.4.0 in /home/rusttm/Desktop/CVRec/venv/lib/python3.11/site-packages (from ipython->-r requirements.txt (line 34)) (2.18.0)\n",
      "Requirement already satisfied: stack-data in /home/rusttm/Desktop/CVRec/venv/lib/python3.11/site-packages (from ipython->-r requirements.txt (line 34)) (0.6.3)\n",
      "Requirement already satisfied: traitlets>=5.13.0 in /home/rusttm/Desktop/CVRec/venv/lib/python3.11/site-packages (from ipython->-r requirements.txt (line 34)) (5.14.3)\n",
      "Requirement already satisfied: pexpect>4.3 in /home/rusttm/Desktop/CVRec/venv/lib/python3.11/site-packages (from ipython->-r requirements.txt (line 34)) (4.9.0)\n",
      "Requirement already satisfied: parso<0.9.0,>=0.8.3 in /home/rusttm/Desktop/CVRec/venv/lib/python3.11/site-packages (from jedi>=0.16->ipython->-r requirements.txt (line 34)) (0.8.4)\n",
      "Requirement already satisfied: ptyprocess>=0.5 in /home/rusttm/Desktop/CVRec/venv/lib/python3.11/site-packages (from pexpect>4.3->ipython->-r requirements.txt (line 34)) (0.7.0)\n",
      "Requirement already satisfied: wcwidth in /home/rusttm/Desktop/CVRec/venv/lib/python3.11/site-packages (from prompt-toolkit<3.1.0,>=3.0.41->ipython->-r requirements.txt (line 34)) (0.2.13)\n",
      "Requirement already satisfied: MarkupSafe>=2.1.1 in /home/rusttm/Desktop/CVRec/venv/lib/python3.11/site-packages (from werkzeug>=1.0.1->tensorboard>=2.4.1->-r requirements.txt (line 17)) (2.1.5)\n",
      "Requirement already satisfied: executing>=1.2.0 in /home/rusttm/Desktop/CVRec/venv/lib/python3.11/site-packages (from stack-data->ipython->-r requirements.txt (line 34)) (2.0.1)\n",
      "Requirement already satisfied: asttokens>=2.1.0 in /home/rusttm/Desktop/CVRec/venv/lib/python3.11/site-packages (from stack-data->ipython->-r requirements.txt (line 34)) (2.4.1)\n",
      "Requirement already satisfied: pure-eval in /home/rusttm/Desktop/CVRec/venv/lib/python3.11/site-packages (from stack-data->ipython->-r requirements.txt (line 34)) (0.2.2)\n",
      "Requirement already satisfied: mpmath<1.4,>=1.1.0 in /home/rusttm/Desktop/CVRec/venv/lib/python3.11/site-packages (from sympy->torch!=1.12.0,>=1.7.0->-r requirements.txt (line 11)) (1.3.0)\n"
     ]
    }
   ],
   "source": [
    "!pip install -r requirements.txt"
   ]
  },
  {
   "cell_type": "code",
   "execution_count": 5,
   "id": "a0f0ebcd-6075-47b5-a357-3e1e5cac48f8",
   "metadata": {},
   "outputs": [
    {
     "name": "stdout",
     "output_type": "stream",
     "text": [
      "--2024-07-18 09:40:59--  https://raw.githubusercontent.com/tkeldenich/How_to_use_YOLOv7_Tutorial/main/man_cafe.jpg\n",
      "Resolving raw.githubusercontent.com (raw.githubusercontent.com)... 185.199.108.133, 185.199.109.133, 185.199.111.133, ...\n",
      "Connecting to raw.githubusercontent.com (raw.githubusercontent.com)|185.199.108.133|:443... connected.\n",
      "HTTP request sent, awaiting response... 200 OK\n",
      "Length: 47111 (46K) [image/jpeg]\n",
      "Saving to: ‘man_cafe.jpg.1’\n",
      "\n",
      "man_cafe.jpg.1      100%[===================>]  46.01K  --.-KB/s    in 0.03s   \n",
      "\n",
      "2024-07-18 09:40:59 (1.31 MB/s) - ‘man_cafe.jpg.1’ saved [47111/47111]\n",
      "\n"
     ]
    }
   ],
   "source": [
    "!wget https://raw.githubusercontent.com/tkeldenich/How_to_use_YOLOv7_Tutorial/main/man_cafe.jpg"
   ]
  },
  {
   "cell_type": "code",
   "execution_count": 6,
   "id": "c64bedc4-3dfe-4f8e-b01c-96a2c9b1cf39",
   "metadata": {},
   "outputs": [
    {
     "name": "stdout",
     "output_type": "stream",
     "text": [
      "Namespace(weights=['yolov7-e6e.pt'], source='./man_cafe.jpg', img_size=640, conf_thres=0.25, iou_thres=0.45, device='', view_img=False, save_txt=False, save_conf=False, nosave=False, classes=None, agnostic_nms=False, augment=False, update=False, project='runs/detect', name='exp', exist_ok=False, no_trace=False)\n",
      "YOLOR 🚀 v0.1-128-ga207844 torch 2.3.1 CPU\n",
      "\n",
      "Fusing layers... \n",
      "/home/rusttm/Desktop/CVRec/venv/lib/python3.11/site-packages/torch/functional.py:512: UserWarning: torch.meshgrid: in an upcoming release, it will be required to pass the indexing argument. (Triggered internally at /pytorch/aten/src/ATen/native/TensorShape.cpp:3587.)\n",
      "  return _VF.meshgrid(tensors, **kwargs)  # type: ignore[attr-defined]\n",
      "Model Summary: 792 layers, 151687420 parameters, 817020 gradients, 210.5 GFLOPS\n",
      " Convert model to Traced-model... \n",
      " traced_script_module saved! \n",
      " model is traced! \n",
      "\n",
      "2 persons, 1 cup, 1 tv, 2 laptops, 1 cell phone, 1 book, Done. (12064.7ms) Inference, (50.3ms) NMS\n",
      " The image with the result is saved in: runs/detect/exp4/man_cafe.jpg\n",
      "Done. (13.073s)\n"
     ]
    }
   ],
   "source": [
    "!python detect.py --weights yolov7-e6e.pt --source ./man_cafe.jpg"
   ]
  },
  {
   "cell_type": "code",
   "execution_count": 7,
   "id": "b2f8b282-74c2-4817-a26a-945759a44c4d",
   "metadata": {},
   "outputs": [
    {
     "name": "stdout",
     "output_type": "stream",
     "text": [
      "Namespace(weights=['yolov7-e6e.pt'], source='./screenshot.png', img_size=640, conf_thres=0.25, iou_thres=0.45, device='', view_img=False, save_txt=False, save_conf=False, nosave=False, classes=None, agnostic_nms=False, augment=False, update=False, project='runs/detect', name='exp', exist_ok=False, no_trace=False)\n",
      "YOLOR 🚀 v0.1-128-ga207844 torch 2.3.1 CPU\n",
      "\n",
      "Fusing layers... \n",
      "/home/rusttm/Desktop/CVRec/venv/lib/python3.11/site-packages/torch/functional.py:512: UserWarning: torch.meshgrid: in an upcoming release, it will be required to pass the indexing argument. (Triggered internally at /pytorch/aten/src/ATen/native/TensorShape.cpp:3587.)\n",
      "  return _VF.meshgrid(tensors, **kwargs)  # type: ignore[attr-defined]\n",
      "Model Summary: 792 layers, 151687420 parameters, 817020 gradients, 210.5 GFLOPS\n",
      " Convert model to Traced-model... \n",
      " traced_script_module saved! \n",
      " model is traced! \n",
      "\n",
      "Traceback (most recent call last):\n",
      "  File \"/home/rusttm/Desktop/CVRec/yolo_v7/yolov7/detect.py\", line 196, in <module>\n",
      "    detect()\n",
      "  File \"/home/rusttm/Desktop/CVRec/yolo_v7/yolov7/detect.py\", line 57, in detect\n",
      "    dataset = LoadImages(source, img_size=imgsz, stride=stride)\n",
      "              ^^^^^^^^^^^^^^^^^^^^^^^^^^^^^^^^^^^^^^^^^^^^^^^^^\n",
      "  File \"/home/rusttm/Desktop/CVRec/yolo_v7/yolov7/utils/datasets.py\", line 138, in __init__\n",
      "    raise Exception(f'ERROR: {p} does not exist')\n",
      "Exception: ERROR: /home/rusttm/Desktop/CVRec/yolo_v7/yolov7/screenshot.png does not exist\n"
     ]
    }
   ],
   "source": [
    "!python detect.py --weights yolov7-e6e.pt --source ./screenshot.png"
   ]
  },
  {
   "cell_type": "code",
   "execution_count": null,
   "id": "38d2bbc8-091b-4349-9c5d-b01e3d018f38",
   "metadata": {},
   "outputs": [
    {
     "name": "stdout",
     "output_type": "stream",
     "text": [
      "Namespace(weights=['yolov7-e6e.pt'], source='./matrix.mkv', img_size=640, conf_thres=0.25, iou_thres=0.45, device='', view_img=False, save_txt=False, save_conf=False, nosave=False, classes=None, agnostic_nms=False, augment=False, update=False, project='runs/detect', name='exp', exist_ok=False, no_trace=False)\n",
      "YOLOR 🚀 v0.1-128-ga207844 torch 2.3.1 CPU\n",
      "\n",
      "Fusing layers... \n",
      "/home/rusttm/Desktop/CVRec/venv/lib/python3.11/site-packages/torch/functional.py:512: UserWarning: torch.meshgrid: in an upcoming release, it will be required to pass the indexing argument. (Triggered internally at /pytorch/aten/src/ATen/native/TensorShape.cpp:3587.)\n",
      "  return _VF.meshgrid(tensors, **kwargs)  # type: ignore[attr-defined]\n",
      "Model Summary: 792 layers, 151687420 parameters, 817020 gradients, 210.5 GFLOPS\n",
      " Convert model to Traced-model... \n"
     ]
    }
   ],
   "source": [
    "!python detect.py --weights yolov7-e6e.pt --source ./matrix.mkv"
   ]
  },
  {
   "cell_type": "code",
   "execution_count": null,
   "id": "5f84a3ae-8d6a-4fb4-b62e-e3aa599cd696",
   "metadata": {},
   "outputs": [],
   "source": []
  }
 ],
 "metadata": {
  "kernelspec": {
   "display_name": "Python 3 (ipykernel)",
   "language": "python",
   "name": "python3"
  },
  "language_info": {
   "codemirror_mode": {
    "name": "ipython",
    "version": 3
   },
   "file_extension": ".py",
   "mimetype": "text/x-python",
   "name": "python",
   "nbconvert_exporter": "python",
   "pygments_lexer": "ipython3",
   "version": "3.11.2"
  }
 },
 "nbformat": 4,
 "nbformat_minor": 5
}
